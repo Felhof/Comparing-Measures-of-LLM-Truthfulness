{
 "cells": [
  {
   "cell_type": "code",
   "execution_count": 1,
   "metadata": {},
   "outputs": [
    {
     "name": "stderr",
     "output_type": "stream",
     "text": [
      "/home/felix/.local/share/virtualenvs/Comparing-Measures-of-LLM-Truthfulness-c5kw3004/lib/python3.10/site-packages/tqdm/auto.py:21: TqdmWarning: IProgress not found. Please update jupyter and ipywidgets. See https://ipywidgets.readthedocs.io/en/stable/user_install.html\n",
      "  from .autonotebook import tqdm as notebook_tqdm\n"
     ]
    }
   ],
   "source": [
    "import datasets\n",
    "import numpy as np\n",
    "import pandas as pd"
   ]
  },
  {
   "cell_type": "code",
   "execution_count": 3,
   "metadata": {},
   "outputs": [],
   "source": [
    "import os\n",
    "import sys\n",
    "module_path = os.path.abspath(os.path.join('LieDetector/'))\n",
    "if module_path not in sys.path:\n",
    "    sys.path.append(module_path)"
   ]
  },
  {
   "cell_type": "code",
   "execution_count": 4,
   "metadata": {},
   "outputs": [],
   "source": [
    "from simpleTQA import SIMPLE_TQA_QUESTION_PREFIX, SIMPLE_TQA_ANSWER_PREFIX"
   ]
  },
  {
   "cell_type": "code",
   "execution_count": 17,
   "metadata": {},
   "outputs": [],
   "source": [
    "np.random.seed(0)\n",
    "tqa = datasets.load_dataset(\"truthful_qa\", \"multiple_choice\")\n",
    "tqa = pd.DataFrame(tqa[\"validation\"])\n",
    "\n",
    "questions = []\n",
    "answers = []\n",
    "full_prompts = []\n",
    "\n",
    "for _, row in tqa.iterrows():\n",
    "    choices = row[\"mc1_targets\"][\"choices\"]\n",
    "    correct_choice_idx = row[\"mc1_targets\"][\"labels\"].index(1)\n",
    "    false_choice_indices = list(range(len(choices))) \n",
    "    false_choice_indices.remove(correct_choice_idx)\n",
    "    false_choice_idx = np.random.choice(false_choice_indices)\n",
    "    \n",
    "    question_with_true_answer = f\"Question: {row['question']}\\nAnswer: {choices[correct_choice_idx]}\"\n",
    "    full_prompt_true_answer = f\"{SIMPLE_TQA_QUESTION_PREFIX}{question_with_true_answer}\\n{SIMPLE_TQA_ANSWER_PREFIX}\" \n",
    "    questions.append(question_with_true_answer)\n",
    "    answers.append(\"True\")\n",
    "    full_prompts.append(full_prompt_true_answer)\n",
    "    \n",
    "    question_with_false_answer = f\"Question: {row['question']}\\nAnswer: {choices[false_choice_idx]}\"\n",
    "    full_prompt_false_answer = f\"{SIMPLE_TQA_QUESTION_PREFIX}{question_with_false_answer}\\n{SIMPLE_TQA_ANSWER_PREFIX}\" \n",
    "    questions.append(question_with_false_answer)\n",
    "    answers.append(\"False\")\n",
    "    full_prompts.append(full_prompt_false_answer)\n",
    "\n",
    "simple_tqa = pd.DataFrame({\n",
    "    \"question\": questions,\n",
    "    \"answer\": answers,\n",
    "    \"full_prompt\": full_prompts,\n",
    "})"
   ]
  },
  {
   "cell_type": "code",
   "execution_count": 18,
   "metadata": {},
   "outputs": [],
   "source": [
    "simple_tqa.to_csv(\"data/simple_tqa.csv\", index=False)"
   ]
  }
 ],
 "metadata": {
  "kernelspec": {
   "display_name": "Comparing-Measures-of-LLM-Truthfulness-c5kw3004",
   "language": "python",
   "name": "python3"
  },
  "language_info": {
   "codemirror_mode": {
    "name": "ipython",
    "version": 3
   },
   "file_extension": ".py",
   "mimetype": "text/x-python",
   "name": "python",
   "nbconvert_exporter": "python",
   "pygments_lexer": "ipython3",
   "version": "3.10.12"
  },
  "orig_nbformat": 4
 },
 "nbformat": 4,
 "nbformat_minor": 2
}
